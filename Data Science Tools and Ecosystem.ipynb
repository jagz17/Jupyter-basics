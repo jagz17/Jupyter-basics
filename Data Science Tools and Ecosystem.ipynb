{
 "cells": [
  {
   "cell_type": "markdown",
   "id": "dc6faebe-d065-4273-a1a3-e79585ee74ab",
   "metadata": {},
   "source": [
    "# Notebook\n",
    "\n"
   ]
  },
  {
   "cell_type": "markdown",
   "id": "1cfe8518-63ea-4957-80e0-da87c184d5c7",
   "metadata": {},
   "source": [
    "## Introduction"
   ]
  },
  {
   "cell_type": "markdown",
   "id": "9018a6a9-0af2-41a4-aa79-981b0b51d9b2",
   "metadata": {},
   "source": [
    "### Data Science Languages:\n",
    "- Python\n",
    "- R\n",
    "- Scala\n",
    "- SQL\n",
    "- Julia\n"
   ]
  },
  {
   "cell_type": "markdown",
   "id": "f2fb5ab2-3b26-462c-b82a-04b66a413751",
   "metadata": {},
   "source": [
    "### Data Science Libraries:\n",
    "- NumPy\n",
    "- Pandas\n",
    "- Matplotlib\n",
    "- Seaborn\n",
    "- Scikit-learn\n",
    "\n"
   ]
  },
  {
   "cell_type": "markdown",
   "id": "f7575255-1cfb-4b6b-ad6e-6c2e1994aa71",
   "metadata": {},
   "source": [
    "### Data Science Tools:\n",
    "\n",
    "| Tool          | Description                           |\n",
    "|---------------|---------------------------------------|\n",
    "| Jupyter       | Interactive notebook environment      |\n",
    "| Anaconda      | Python distribution with data science packages |\n",
    "| Tableau       | Data visualization tool               |\n",
    "| Power BI      | Business analytics tool               |\n",
    "| Apache Spark  | Distributed computing engine          |\n",
    "| Hadoop        | Distributed storage and processing framework |\n"
   ]
  },
  {
   "cell_type": "markdown",
   "id": "fd56c8e9-2455-4ba3-b8bf-c68fabd4b38c",
   "metadata": {},
   "source": [
    "### Arithmetic Expressions:\n",
    "- Addition\n",
    "- Subtraction\n",
    "- Multiplication\n",
    "- Division\n"
   ]
  },
  {
   "cell_type": "code",
   "execution_count": 7,
   "id": "2f2fc809-ec1a-48c3-9afa-cfba70037380",
   "metadata": {},
   "outputs": [
    {
     "name": "stdout",
     "output_type": "stream",
     "text": [
      "multplication result: 10\n",
      "addition result: 7\n"
     ]
    }
   ],
   "source": [
    "a=5\n",
    "b=2\n",
    "print(\"multplication result:\",a*b)\n",
    "print(\"addition result:\",a+b)"
   ]
  },
  {
   "cell_type": "code",
   "execution_count": 8,
   "id": "3af0b08b-e46a-4af7-8e2f-f4a9a96a2e2b",
   "metadata": {},
   "outputs": [
    {
     "name": "stdout",
     "output_type": "stream",
     "text": [
      "120 minutes is equal to 2.0 hours\n"
     ]
    }
   ],
   "source": [
    "def convert_minutes_to_hours(minutes):\n",
    "    hours = minutes / 60\n",
    "    return hours\n",
    "\n",
    "# Example\n",
    "minutes = 120\n",
    "hours = convert_minutes_to_hours(minutes)\n",
    "print(minutes, \"minutes is equal to\", hours, \"hours\")\n"
   ]
  },
  {
   "cell_type": "markdown",
   "id": "2ece7277-4c5e-4530-8eab-4062d00dcd18",
   "metadata": {},
   "source": [
    "### Objectives:\r\n",
    "1. List data science languages and libraries.\r\n",
    "2. Present a table of data science tools.\r\n",
    "3. Provide examples of arithmetic expressions.\r\n",
    "4. Perform calculations in code cells.\r\n"
   ]
  },
  {
   "cell_type": "markdown",
   "id": "cebe59a5-b8a9-4571-8583-6c4269b31046",
   "metadata": {},
   "source": [
    "#### Author:\n",
    "Jagriti Srivastava\n"
   ]
  },
  {
   "cell_type": "code",
   "execution_count": null,
   "id": "ad7208f1-8681-48e0-bbc8-a36a25831d2b",
   "metadata": {},
   "outputs": [],
   "source": []
  }
 ],
 "metadata": {
  "kernelspec": {
   "display_name": "Python 3 (ipykernel)",
   "language": "python",
   "name": "python3"
  },
  "language_info": {
   "codemirror_mode": {
    "name": "ipython",
    "version": 3
   },
   "file_extension": ".py",
   "mimetype": "text/x-python",
   "name": "python",
   "nbconvert_exporter": "python",
   "pygments_lexer": "ipython3",
   "version": "3.11.4"
  }
 },
 "nbformat": 4,
 "nbformat_minor": 5
}
